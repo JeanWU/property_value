{
 "cells": [
  {
   "cell_type": "markdown",
   "metadata": {
    "collapsed": false
   },
   "source": [
    "此檔案使用scikit-learn 機器學習套件裡的SVR演算法，來達成波士頓房地產價錢預測"
   ]
  },
  {
   "cell_type": "code",
   "execution_count": 1,
   "metadata": {
    "collapsed": true
   },
   "outputs": [],
   "source": [
    "%matplotlib inline\n",
    "from sklearn import datasets\n",
    "from sklearn.svm import SVR\n",
    "import matplotlib.pyplot as plt\n",
    "\n",
    "boston = datasets.load_boston()\n",
    "X=boston.data\n",
    "y = boston.target\n",
    "#X_select=boston.data[:,(12,5,7)]"
   ]
  },
  {
   "cell_type": "markdown",
   "metadata": {},
   "source": [
    "引入函式庫及內建波士頓房地產資料\n",
    "引入函式庫如下:\n",
    "sklearn.datasets: 用來匯入內建之波士頓房地產資料庫\n",
    "sklearn.SVR: 支持向量機回歸分析之演算法\n",
    "matplotlib.pyplot: 用來繪製影像\n",
    "\n",
    "將波士頓房地產資料匯入到boston\n",
    "將波士頓房地產資料的數據資料(data)匯入到X\n",
    "將波士頓房地產資料的預測數值(target)匯入到y"
   ]
  },
  {
   "cell_type": "code",
   "execution_count": 2,
   "metadata": {
    "collapsed": false
   },
   "outputs": [
    {
     "data": {
      "text/plain": [
       "SVR(C=1000.0, cache_size=200, coef0=0.0, degree=3, epsilon=0.1, gamma=0.1,\n",
       "  kernel='rbf', max_iter=-1, shrinking=True, tol=0.001, verbose=False)"
      ]
     },
     "execution_count": 2,
     "metadata": {},
     "output_type": "execute_result"
    }
   ],
   "source": [
    "clf = SVR(kernel='rbf', C=1e3, gamma=0.1)\n",
    "clf.fit(X, y) "
   ]
  },
  {
   "cell_type": "markdown",
   "metadata": {},
   "source": [
    "將SVR演算法引入到clf，並設定SVR演算法的參數\n",
    "使用波士頓房地產數據(boston.data)，以及預測目標(y)來訓練預測機clf"
   ]
  },
  {
   "cell_type": "code",
   "execution_count": 3,
   "metadata": {
    "collapsed": false
   },
   "outputs": [
    {
     "data": {
      "text/plain": [
       "['./machine_SVR.pkl',\n",
       " './machine_SVR.pkl_01.npy',\n",
       " './machine_SVR.pkl_02.npy',\n",
       " './machine_SVR.pkl_03.npy',\n",
       " './machine_SVR.pkl_04.npy',\n",
       " './machine_SVR.pkl_05.npy',\n",
       " './machine_SVR.pkl_06.npy',\n",
       " './machine_SVR.pkl_07.npy',\n",
       " './machine_SVR.pkl_08.npy',\n",
       " './machine_SVR.pkl_09.npy',\n",
       " './machine_SVR.pkl_10.npy']"
      ]
     },
     "execution_count": 3,
     "metadata": {},
     "output_type": "execute_result"
    }
   ],
   "source": [
    "from sklearn.externals import joblib\n",
    "joblib.dump(clf,\"./machine_SVR.pkl\")"
   ]
  },
  {
   "cell_type": "markdown",
   "metadata": {},
   "source": [
    "使用joblib.dump將SVR預測器匯出為pkl檔"
   ]
  },
  {
   "cell_type": "code",
   "execution_count": 5,
   "metadata": {
    "collapsed": false
   },
   "outputs": [
    {
     "name": "stderr",
     "output_type": "stream",
     "text": [
      "C:\\Users\\jean\\Anaconda3\\lib\\site-packages\\sklearn\\utils\\validation.py:386: DeprecationWarning: Passing 1d arrays as data is deprecated in 0.17 and willraise ValueError in 0.19. Reshape your data either using X.reshape(-1, 1) if your data has a single feature or X.reshape(1, -1) if it contains a single sample.\n",
      "  DeprecationWarning)\n"
     ]
    }
   ],
   "source": [
    "clf=joblib.load(\"./machine_SVR.pkl\")\n",
    "clf.fit(boston.data, y)\n",
    "predict_y=clf.predict(boston.data[2])"
   ]
  },
  {
   "cell_type": "markdown",
   "metadata": {},
   "source": [
    "使用joblib.load將pkl檔匯入為預測機clf\n",
    "接著使用波士頓房地產數據(boston.data)，以及預測目標(y)來訓練預測機clf\n",
    "predict_y為將房地產數據的第三項匯入預測機所得到的預測結果"
   ]
  },
  {
   "cell_type": "code",
   "execution_count": 6,
   "metadata": {
    "collapsed": false
   },
   "outputs": [
    {
     "data": {
      "text/plain": [
       "0.99988275378631286"
      ]
     },
     "execution_count": 6,
     "metadata": {},
     "output_type": "execute_result"
    }
   ],
   "source": [
    "predict=clf.predict(X)\n",
    "clf.score(X, y)"
   ]
  },
  {
   "cell_type": "markdown",
   "metadata": {},
   "source": [
    "predict為將所有波士頓房地產數據丟入clf預測機後，所預測出的結果\n",
    "使用clf.score來計算準確率(score=1為最理想情況)"
   ]
  },
  {
   "cell_type": "code",
   "execution_count": 7,
   "metadata": {
    "collapsed": false
   },
   "outputs": [
    {
     "data": {
      "text/plain": [
       "<matplotlib.text.Text at 0x608c5f8>"
      ]
     },
     "execution_count": 7,
     "metadata": {},
     "output_type": "execute_result"
    },
    {
     "name": "stderr",
     "output_type": "stream",
     "text": [
      "C:\\Users\\jean\\Anaconda3\\lib\\site-packages\\matplotlib\\collections.py:590: FutureWarning: elementwise comparison failed; returning scalar instead, but in the future will perform elementwise comparison\n",
      "  if self._edgecolors == str('face'):\n"
     ]
    },
    {
     "data": {
      "image/png": "[encoded data removed]",
      "text/plain": [
       "<matplotlib.figure.Figure at 0x6054630>"
      ]
     },
     "metadata": {},
     "output_type": "display_data"
    }
   ],
   "source": [
    "plt.scatter(predict,y,s=2)\n",
    "plt.plot(predict_y, predict_y, 'ro')\n",
    "plt.plot([y.min(), y.max()], [y.min(), y.max()], 'k--', lw=2)\n",
    "plt.xlabel('Predicted')\n",
    "plt.ylabel('Measured')\n"
   ]
  },
  {
   "cell_type": "markdown",
   "metadata": {
    "collapsed": true
   },
   "source": [
    "繪出預測結果與實際目標差異圖\n",
    "\n",
    "X軸為預測結果，Y軸為回歸目標。\n",
    "並劃出一條斜率=1的理想曲線(用虛線標示)\n",
    "紅點為房地產第三項數據的預測結果\n",
    "因為使用clf的準確率很高，所以預測結果與回歸目標幾乎一樣，scatter的點會幾乎都在理想曲線上。"
   ]
  }
 ],
 "metadata": {
  "kernelspec": {
   "display_name": "Python 3",
   "language": "python",
   "name": "python3"
  },
  "language_info": {
   "codemirror_mode": {
    "name": "ipython",
    "version": 3
   },
   "file_extension": ".py",
   "mimetype": "text/x-python",
   "name": "python",
   "nbconvert_exporter": "python",
   "pygments_lexer": "ipython3",
   "version": "3.4.4"
  }
 },
 "nbformat": 4,
 "nbformat_minor": 0
}
